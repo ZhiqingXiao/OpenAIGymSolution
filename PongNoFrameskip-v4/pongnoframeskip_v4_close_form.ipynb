{
 "cells": [
  {
   "cell_type": "markdown",
   "metadata": {},
   "source": [
    "# Use a Fixed Deterministic Policy to Control PongNoFrameskip-v4"
   ]
  },
  {
   "cell_type": "markdown",
   "metadata": {},
   "source": [
    "## Test"
   ]
  },
  {
   "cell_type": "code",
   "execution_count": 1,
   "metadata": {},
   "outputs": [
    {
     "name": "stdout",
     "output_type": "stream",
     "text": [
      "None\n"
     ]
    }
   ],
   "source": [
    "import numpy as np\n",
    "np.random.seed(0)\n",
    "import gym\n",
    "env = gym.make('PongNoFrameskip-v4')\n",
    "env.seed(0)\n",
    "print(env.spec.reward_threshold)"
   ]
  },
  {
   "cell_type": "code",
   "execution_count": 2,
   "metadata": {},
   "outputs": [],
   "source": [
    "class Agent:\n",
    "    def decide(self, observation):\n",
    "        colors = {'racket': 92, 'ball': 236}\n",
    "        heights = {'racket': 16, 'ball': 4}\n",
    "        ymin, ymax = 34, 193\n",
    "        locations = {}\n",
    "        for obj in colors:\n",
    "            match = observation[ymin:ymax, :, 0] == colors[obj]\n",
    "            yy = np.where(match.any(axis=1))[0]\n",
    "            if yy.size and yy.min() == 0:\n",
    "                yy = np.arange(yy.max()-heights[obj]+1, yy.max()+1, 1)\n",
    "            if yy.size and yy.max() == ymax - ymin:\n",
    "                yy = np.arange(yy.min(), yy.min()+heights[obj], 1)\n",
    "            locations[obj + 'y'] = yy.mean() if yy.size else np.nan\n",
    "        if locations['bally'] < locations['rackety']:\n",
    "            action = 2 # move up\n",
    "        elif locations['bally'] > locations['rackety']:\n",
    "            action = 3 # move down\n",
    "        else:\n",
    "            action = 0\n",
    "        return action\n",
    "\n",
    "\n",
    "agent = Agent()"
   ]
  },
  {
   "cell_type": "code",
   "execution_count": 3,
   "metadata": {},
   "outputs": [],
   "source": [
    "def play_once(env, agent):\n",
    "    observation = env.reset()\n",
    "    episode_reward = 0.\n",
    "    while True:\n",
    "        action = agent.decide(observation)\n",
    "        observation, reward, done, _ = env.step(action)\n",
    "        episode_reward += reward\n",
    "        if done:\n",
    "            break\n",
    "    return episode_reward"
   ]
  },
  {
   "cell_type": "markdown",
   "metadata": {},
   "source": [
    "Test 100 episodes"
   ]
  },
  {
   "cell_type": "code",
   "execution_count": 4,
   "metadata": {
    "scrolled": false
   },
   "outputs": [
    {
     "name": "stdout",
     "output_type": "stream",
     "text": [
      "average episode rewards = 21.00\n"
     ]
    }
   ],
   "source": [
    "episode_rewards = [play_once(env, agent) for _ in range(100)]\n",
    "print('average episode rewards = {:.2f}'.format(np.mean(episode_rewards)))"
   ]
  },
  {
   "cell_type": "code",
   "execution_count": 5,
   "metadata": {},
   "outputs": [],
   "source": [
    "env.close()"
   ]
  }
 ],
 "metadata": {
  "kernelspec": {
   "display_name": "Python 3",
   "language": "python",
   "name": "python3"
  },
  "language_info": {
   "codemirror_mode": {
    "name": "ipython",
    "version": 3
   },
   "file_extension": ".py",
   "mimetype": "text/x-python",
   "name": "python",
   "nbconvert_exporter": "python",
   "pygments_lexer": "ipython3",
   "version": "3.8.5"
  }
 },
 "nbformat": 4,
 "nbformat_minor": 4
}
