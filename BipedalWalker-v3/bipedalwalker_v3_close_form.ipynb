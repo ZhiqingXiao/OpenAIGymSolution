{
 "cells": [
  {
   "cell_type": "markdown",
   "metadata": {},
   "source": [
    "# Use a Fixed Deterministic Policy to Control BipedalWalker-v3"
   ]
  },
  {
   "cell_type": "markdown",
   "metadata": {},
   "source": [
    "## Policy"
   ]
  },
  {
   "cell_type": "markdown",
   "metadata": {},
   "source": [
    "The action $\\mathbf{a}$ (as a row vector) is a linear function of the obeservation $\\mathbf{o}$ (as a row vector), i.e. $\\mathbf{a}=\\mathbf{o}\\mathbf{W}+\\mathbf{b}$, where\n",
    "\n",
    "$\\mathbf{W}=\\left(\\begin{matrix}\n",
    " 0.9 & -0.7 &  0.0 & -1.4 \\\\\n",
    " 4.3 & -1.6 & -4.4 & -2.0 \\\\\n",
    " 2.4 & -4.2 & -1.3 & -0.1 \\\\\n",
    "-3.1 & -5.0 & -2.0 & -3.3 \\\\\n",
    "-0.8 &  1.4 &  1.7 &  0.2 \\\\\n",
    "-0.7 &  0.2 & -0.2 &  0.1 \\\\\n",
    "-0.6 & -1.5 & -0.6 &  0.3 \\\\\n",
    "-0.5 & -0.3 &  0.2 &  0.1 \\\\\n",
    " 0.0 & -0.1 & -0.1 &  0.1 \\\\\n",
    " 0.4 &  0.8 & -1.6 & -0.5 \\\\\n",
    "-0.4 &  0.5 & -0.3 & -0.4 \\\\\n",
    " 0.3 &  2.0 &  0.9 & -1.6 \\\\\n",
    " 0.0 & -0.2 &  0.1 & -0.3 \\\\\n",
    " 0.1 &  0.2 & -0.5 & -0.3 \\\\\n",
    " 0.7 &  0.3 &  5.1 & -2.4 \\\\\n",
    "-0.4 & -2.3 &  0.3 & -4.0 \\\\\n",
    " 0.1 & -0.8 &  0.3 &  2.5 \\\\\n",
    " 0.4 & -0.9 & -1.8 &  0.3 \\\\\n",
    "-3.9 & -3.5 &  2.8 &  0.8 \\\\\n",
    " 0.4 & -2.8 &  0.4 &  1.4 \\\\\n",
    "-2.2 & -2.1 & -2.2 & -3.2 \\\\\n",
    "-2.7 & -2.6 &  0.3 &  0.6 \\\\\n",
    " 2.0 &  2.8 &  0.0 & -0.9 \\\\\n",
    "-2.2 &  0.6 &  4.7 & -4.6\n",
    "\\end{matrix}\\right)$\n",
    "\n",
    "$\\mathbf{b}=\\left(3.2, 6.1, -4.0, 7.6\\right)$"
   ]
  },
  {
   "cell_type": "markdown",
   "metadata": {},
   "source": [
    "## Test"
   ]
  },
  {
   "cell_type": "code",
   "execution_count": 1,
   "metadata": {},
   "outputs": [
    {
     "name": "stdout",
     "output_type": "stream",
     "text": [
      "300\n"
     ]
    }
   ],
   "source": [
    "import numpy as np\n",
    "np.random.seed(0)\n",
    "import gym\n",
    "env = gym.make('BipedalWalker-v3')\n",
    "env.seed(0)\n",
    "print(env.spec.reward_threshold)"
   ]
  },
  {
   "cell_type": "code",
   "execution_count": 2,
   "metadata": {},
   "outputs": [],
   "source": [
    "class Agent:\n",
    "    def decide(self, observation):\n",
    "        weights = np.array([\n",
    "            [ 0.9, -0.7,  0.0, -1.4],\n",
    "            [ 4.3, -1.6, -4.4, -2.0],\n",
    "            [ 2.4, -4.2, -1.3, -0.1],\n",
    "            [-3.1, -5.0, -2.0, -3.3],\n",
    "            [-0.8,  1.4,  1.7,  0.2],\n",
    "            [-0.7,  0.2, -0.2,  0.1],\n",
    "            [-0.6, -1.5, -0.6,  0.3],\n",
    "            [-0.5, -0.3,  0.2,  0.1],\n",
    "            [ 0.0, -0.1, -0.1,  0.1],\n",
    "            [ 0.4,  0.8, -1.6, -0.5],\n",
    "            [-0.4,  0.5, -0.3, -0.4],\n",
    "            [ 0.3,  2.0,  0.9, -1.6],\n",
    "            [ 0.0, -0.2,  0.1, -0.3],\n",
    "            [ 0.1,  0.2, -0.5, -0.3],\n",
    "            [ 0.7,  0.3,  5.1, -2.4],\n",
    "            [-0.4, -2.3,  0.3, -4.0],\n",
    "            [ 0.1, -0.8,  0.3,  2.5],\n",
    "            [ 0.4, -0.9, -1.8,  0.3],\n",
    "            [-3.9, -3.5,  2.8,  0.8],\n",
    "            [ 0.4, -2.8,  0.4,  1.4],\n",
    "            [-2.2, -2.1, -2.2, -3.2],\n",
    "            [-2.7, -2.6,  0.3,  0.6],\n",
    "            [ 2.0,  2.8,  0.0, -0.9],\n",
    "            [-2.2,  0.6,  4.7, -4.6],\n",
    "            ])\n",
    "        bias = np.array([3.2, 6.1, -4.0, 7.6])\n",
    "        action = np.matmul(observation, weights) + bias\n",
    "        return action\n",
    "\n",
    "agent = Agent()"
   ]
  },
  {
   "cell_type": "code",
   "execution_count": 3,
   "metadata": {},
   "outputs": [],
   "source": [
    "def play_once(env, agent):\n",
    "    observation = env.reset()\n",
    "    episode_reward = 0.\n",
    "    while True:\n",
    "        action = agent.decide(observation)\n",
    "        observation, reward, done, _ = env.step(action)\n",
    "        episode_reward += reward\n",
    "        if done:\n",
    "            break\n",
    "    return episode_reward"
   ]
  },
  {
   "cell_type": "markdown",
   "metadata": {},
   "source": [
    "Test 100 episodes"
   ]
  },
  {
   "cell_type": "code",
   "execution_count": 4,
   "metadata": {
    "scrolled": false
   },
   "outputs": [
    {
     "name": "stdout",
     "output_type": "stream",
     "text": [
      "average episode rewards = 311.94\n"
     ]
    }
   ],
   "source": [
    "episode_rewards = [play_once(env, agent) for _ in range(100)]\n",
    "print('average episode rewards = {:.2f}'.format(np.mean(episode_rewards)))"
   ]
  },
  {
   "cell_type": "code",
   "execution_count": 5,
   "metadata": {},
   "outputs": [],
   "source": [
    "env.close()"
   ]
  }
 ],
 "metadata": {
  "kernelspec": {
   "display_name": "Python 3",
   "language": "python",
   "name": "python3"
  },
  "language_info": {
   "codemirror_mode": {
    "name": "ipython",
    "version": 3
   },
   "file_extension": ".py",
   "mimetype": "text/x-python",
   "name": "python",
   "nbconvert_exporter": "python",
   "pygments_lexer": "ipython3",
   "version": "3.8.5"
  }
 },
 "nbformat": 4,
 "nbformat_minor": 4
}
